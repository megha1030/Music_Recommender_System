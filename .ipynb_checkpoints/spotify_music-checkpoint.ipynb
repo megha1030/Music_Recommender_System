{
 "cells": [
  {
   "cell_type": "code",
   "execution_count": 1,
   "id": "99682ef2",
   "metadata": {},
   "outputs": [],
   "source": [
    "import numpy as np\n",
    "import pandas as pd\n"
   ]
  },
  {
   "cell_type": "code",
   "execution_count": 2,
   "id": "04f3d8d5",
   "metadata": {},
   "outputs": [
    {
     "data": {
      "text/html": [
       "<div>\n",
       "<style scoped>\n",
       "    .dataframe tbody tr th:only-of-type {\n",
       "        vertical-align: middle;\n",
       "    }\n",
       "\n",
       "    .dataframe tbody tr th {\n",
       "        vertical-align: top;\n",
       "    }\n",
       "\n",
       "    .dataframe thead th {\n",
       "        text-align: right;\n",
       "    }\n",
       "</style>\n",
       "<table border=\"1\" class=\"dataframe\">\n",
       "  <thead>\n",
       "    <tr style=\"text-align: right;\">\n",
       "      <th></th>\n",
       "      <th>artist</th>\n",
       "      <th>song</th>\n",
       "      <th>link</th>\n",
       "      <th>text</th>\n",
       "    </tr>\n",
       "  </thead>\n",
       "  <tbody>\n",
       "    <tr>\n",
       "      <th>0</th>\n",
       "      <td>ABBA</td>\n",
       "      <td>Ahe's My Kind Of Girl</td>\n",
       "      <td>/a/abba/ahes+my+kind+of+girl_20598417.html</td>\n",
       "      <td>Look at her face, it's a wonderful face  \\r\\nA...</td>\n",
       "    </tr>\n",
       "    <tr>\n",
       "      <th>1</th>\n",
       "      <td>ABBA</td>\n",
       "      <td>Andante, Andante</td>\n",
       "      <td>/a/abba/andante+andante_20002708.html</td>\n",
       "      <td>Take it easy with me, please  \\r\\nTouch me gen...</td>\n",
       "    </tr>\n",
       "    <tr>\n",
       "      <th>2</th>\n",
       "      <td>ABBA</td>\n",
       "      <td>As Good As New</td>\n",
       "      <td>/a/abba/as+good+as+new_20003033.html</td>\n",
       "      <td>I'll never know why I had to go  \\r\\nWhy I had...</td>\n",
       "    </tr>\n",
       "  </tbody>\n",
       "</table>\n",
       "</div>"
      ],
      "text/plain": [
       "  artist                   song                                        link  \\\n",
       "0   ABBA  Ahe's My Kind Of Girl  /a/abba/ahes+my+kind+of+girl_20598417.html   \n",
       "1   ABBA       Andante, Andante       /a/abba/andante+andante_20002708.html   \n",
       "2   ABBA         As Good As New        /a/abba/as+good+as+new_20003033.html   \n",
       "\n",
       "                                                text  \n",
       "0  Look at her face, it's a wonderful face  \\r\\nA...  \n",
       "1  Take it easy with me, please  \\r\\nTouch me gen...  \n",
       "2  I'll never know why I had to go  \\r\\nWhy I had...  "
      ]
     },
     "execution_count": 2,
     "metadata": {},
     "output_type": "execute_result"
    }
   ],
   "source": [
    "df = pd.read_csv('spotify_millsongdata.csv')\n",
    "df.head(3)"
   ]
  },
  {
   "cell_type": "code",
   "execution_count": 3,
   "id": "54763be1",
   "metadata": {},
   "outputs": [
    {
     "data": {
      "text/plain": [
       "(57650, 4)"
      ]
     },
     "execution_count": 3,
     "metadata": {},
     "output_type": "execute_result"
    }
   ],
   "source": [
    "df.shape"
   ]
  },
  {
   "cell_type": "code",
   "execution_count": 4,
   "id": "f666318a",
   "metadata": {},
   "outputs": [],
   "source": [
    "df=df.sample(n=5000).drop('link',axis=1).reset_index(drop=True)"
   ]
  },
  {
   "cell_type": "code",
   "execution_count": 5,
   "id": "5a1d2517",
   "metadata": {},
   "outputs": [
    {
     "data": {
      "text/plain": [
       "'Rose Garden'"
      ]
     },
     "execution_count": 5,
     "metadata": {},
     "output_type": "execute_result"
    }
   ],
   "source": [
    "df['song'][0]"
   ]
  },
  {
   "cell_type": "code",
   "execution_count": 6,
   "id": "8fb6b843",
   "metadata": {},
   "outputs": [
    {
     "data": {
      "text/plain": [
       "\"I beg you pardon I never promised you a rose garden  \\r\\nAlong with the sunshine there's gotta be a little rain sometimes  \\r\\nWhen you take you got to give so live and let live or let go  \\r\\nI beg you pardon I never promised you a rose garden  \\r\\n  \\r\\nI could promise you things like big diamond rings  \\r\\nBut you don't find roses growin' on stalks of clover so you better think it\\r\\nover  \\r\\nWhen it's sweet talking you could make it come true  \\r\\nI would give you the world right now on a silver platter but what would it\\r\\nmatter  \\r\\n  \\r\\nSo smile for a while and let's be jolly love shouldn't be so melancholy  \\r\\nCome along and share the good times while we can  \\r\\nI beg you pardon I never promised you a rose garden  \\r\\nAlong with the sunshine girl there's gotta be a little rain sometimes  \\r\\n  \\r\\nI could sing you a tune and promise you the moon  \\r\\nBut if that's what it takes to hold you I'd just as soon let you go  \\r\\nBut there's one thing I want you to know  \\r\\nYou better look before you leap still water runs deep  \\r\\n  \\r\\nAnd there won't always be someone there to pull you out  \\r\\nAnd you know what I'm talking about  \\r\\nSo smile for a while...\\r\\n\\r\\n\""
      ]
     },
     "execution_count": 6,
     "metadata": {},
     "output_type": "execute_result"
    }
   ],
   "source": [
    "df['text'][0]"
   ]
  },
  {
   "cell_type": "code",
   "execution_count": 7,
   "id": "78259f49",
   "metadata": {},
   "outputs": [],
   "source": [
    "df['text'] = df['text'] .str.lower().replace(r'[^\\w\\s]','').replace(r'\\n' ,'',regex=True)"
   ]
  },
  {
   "cell_type": "code",
   "execution_count": 8,
   "id": "bba691f9",
   "metadata": {},
   "outputs": [
    {
     "data": {
      "text/plain": [
       "\"i beg you pardon i never promised you a rose garden  \\ralong with the sunshine there's gotta be a little rain sometimes  \\rwhen you take you got to give so live and let live or let go  \\ri beg you pardon i never promised you a rose garden  \\r  \\ri could promise you things like big diamond rings  \\rbut you don't find roses growin' on stalks of clover so you better think it\\rover  \\rwhen it's sweet talking you could make it come true  \\ri would give you the world right now on a silver platter but what would it\\rmatter  \\r  \\rso smile for a while and let's be jolly love shouldn't be so melancholy  \\rcome along and share the good times while we can  \\ri beg you pardon i never promised you a rose garden  \\ralong with the sunshine girl there's gotta be a little rain sometimes  \\r  \\ri could sing you a tune and promise you the moon  \\rbut if that's what it takes to hold you i'd just as soon let you go  \\rbut there's one thing i want you to know  \\ryou better look before you leap still water runs deep  \\r  \\rand there won't always be someone there to pull you out  \\rand you know what i'm talking about  \\rso smile for a while...\\r\\r\""
      ]
     },
     "execution_count": 8,
     "metadata": {},
     "output_type": "execute_result"
    }
   ],
   "source": [
    "df['text'][0]"
   ]
  },
  {
   "cell_type": "code",
   "execution_count": 9,
   "id": "f78ce2b6",
   "metadata": {},
   "outputs": [],
   "source": [
    "import nltk\n",
    "from nltk.stem.porter import PorterStemmer\n",
    "\n",
    "ps = PorterStemmer()\n",
    "\n",
    "\n",
    "def tokenization(txt):\n",
    "    tokens = nltk.word_tokenize(txt)\n",
    "    stemming = [ps.stem(w) for w in tokens]\n",
    "        \n",
    "    return \" \".join(stemming)"
   ]
  },
  {
   "cell_type": "code",
   "execution_count": 10,
   "id": "8735fe80",
   "metadata": {},
   "outputs": [
    {
     "data": {
      "text/plain": [
       "'thi is my word love love'"
      ]
     },
     "execution_count": 10,
     "metadata": {},
     "output_type": "execute_result"
    }
   ],
   "source": [
    "tokenization('this is my word loving loved')"
   ]
  },
  {
   "cell_type": "code",
   "execution_count": 11,
   "id": "f405d704",
   "metadata": {},
   "outputs": [],
   "source": [
    "df['text'] = df['text'].apply(lambda x: tokenization(x))"
   ]
  },
  {
   "cell_type": "code",
   "execution_count": 12,
   "id": "8432d051",
   "metadata": {},
   "outputs": [
    {
     "data": {
      "text/plain": [
       "0       i beg you pardon i never promis you a rose gar...\n",
       "1       i know some peopl say that i 'm the devil in d...\n",
       "2       roll the dice , roll them twice . my , my can ...\n",
       "3       is the music of grove skin rock soak in the di...\n",
       "4       not sure if you know thi but when we first met...\n",
       "                              ...                        \n",
       "4995    wound heart i can not save you from yourself t...\n",
       "4996    the white line of tracer for the facer of the ...\n",
       "4997    drug stab time well i got work on the ford lin...\n",
       "4998    everybodi tell me , we love your song your sou...\n",
       "4999    how do you rate the morn sun after a long and ...\n",
       "Name: text, Length: 5000, dtype: object"
      ]
     },
     "execution_count": 12,
     "metadata": {},
     "output_type": "execute_result"
    }
   ],
   "source": [
    "df['text']"
   ]
  },
  {
   "cell_type": "code",
   "execution_count": 13,
   "id": "f04e48ce",
   "metadata": {},
   "outputs": [],
   "source": [
    "from sklearn.feature_extraction.text import TfidfVectorizer\n",
    "from sklearn.metrics.pairwise import cosine_similarity"
   ]
  },
  {
   "cell_type": "code",
   "execution_count": 14,
   "id": "743185b2",
   "metadata": {},
   "outputs": [],
   "source": [
    "tfid = TfidfVectorizer(stop_words='english') \n",
    "matrix = tfid.fit_transform(df['text'])"
   ]
  },
  {
   "cell_type": "code",
   "execution_count": 23,
   "id": "8f6af59c",
   "metadata": {},
   "outputs": [
    {
     "data": {
      "text/plain": [
       "(5000, 17631)"
      ]
     },
     "execution_count": 23,
     "metadata": {},
     "output_type": "execute_result"
    }
   ],
   "source": [
    "matrix.shape"
   ]
  },
  {
   "cell_type": "code",
   "execution_count": 24,
   "id": "12475c3a",
   "metadata": {},
   "outputs": [],
   "source": [
    "similarity = cosine_similarity(matrix)"
   ]
  },
  {
   "cell_type": "code",
   "execution_count": 25,
   "id": "9c5c0958",
   "metadata": {},
   "outputs": [
    {
     "data": {
      "text/plain": [
       "array([1.        , 0.06714523, 0.        , ..., 0.04513007, 0.05506112,\n",
       "       0.02712368])"
      ]
     },
     "execution_count": 25,
     "metadata": {},
     "output_type": "execute_result"
    }
   ],
   "source": [
    "similarity[0]"
   ]
  },
  {
   "cell_type": "code",
   "execution_count": 26,
   "id": "3588f037",
   "metadata": {},
   "outputs": [
    {
     "data": {
      "text/plain": [
       "'Rose Garden'"
      ]
     },
     "execution_count": 26,
     "metadata": {},
     "output_type": "execute_result"
    }
   ],
   "source": [
    "df['song'][0]"
   ]
  },
  {
   "cell_type": "code",
   "execution_count": 27,
   "id": "6208da16",
   "metadata": {},
   "outputs": [
    {
     "data": {
      "text/html": [
       "<div>\n",
       "<style scoped>\n",
       "    .dataframe tbody tr th:only-of-type {\n",
       "        vertical-align: middle;\n",
       "    }\n",
       "\n",
       "    .dataframe tbody tr th {\n",
       "        vertical-align: top;\n",
       "    }\n",
       "\n",
       "    .dataframe thead th {\n",
       "        text-align: right;\n",
       "    }\n",
       "</style>\n",
       "<table border=\"1\" class=\"dataframe\">\n",
       "  <thead>\n",
       "    <tr style=\"text-align: right;\">\n",
       "      <th></th>\n",
       "      <th>artist</th>\n",
       "      <th>song</th>\n",
       "      <th>text</th>\n",
       "    </tr>\n",
       "  </thead>\n",
       "  <tbody>\n",
       "    <tr>\n",
       "      <th>0</th>\n",
       "      <td>Glen Campbell</td>\n",
       "      <td>Rose Garden</td>\n",
       "      <td>i beg you pardon i never promis you a rose gar...</td>\n",
       "    </tr>\n",
       "  </tbody>\n",
       "</table>\n",
       "</div>"
      ],
      "text/plain": [
       "          artist         song  \\\n",
       "0  Glen Campbell  Rose Garden   \n",
       "\n",
       "                                                text  \n",
       "0  i beg you pardon i never promis you a rose gar...  "
      ]
     },
     "execution_count": 27,
     "metadata": {},
     "output_type": "execute_result"
    }
   ],
   "source": [
    "df[df['song'] == \"Rose Garden\"]"
   ]
  },
  {
   "cell_type": "code",
   "execution_count": 28,
   "id": "ede0071e",
   "metadata": {},
   "outputs": [],
   "source": [
    "def recommendation(song):\n",
    "    idx= df[df['song']== song].index[0]\n",
    "    distances= sorted(list(enumerate(similarity[idx])),reverse=False, key=lambda x:x[1])\n",
    "    \n",
    "    songs  = []\n",
    "    for i in distances[1:21]:\n",
    "        songs.append(df.iloc[i[0]].song)\n",
    "    return songs"
   ]
  },
  {
   "cell_type": "code",
   "execution_count": 29,
   "id": "8bb63ef4",
   "metadata": {},
   "outputs": [
    {
     "data": {
      "text/plain": [
       "['Pangako',\n",
       " 'Aa Gaye',\n",
       " 'Once In A Lifetime',\n",
       " 'Un Amore Per Sempre',\n",
       " 'Hallelujah',\n",
       " 'Wandering Shepherd',\n",
       " 'Sleepwalk',\n",
       " 'Pick A Bale Of Cotton',\n",
       " 'Cover It With Gas And Set It On Fire',\n",
       " 'Dati',\n",
       " 'Broken Flag',\n",
       " \"The Devil's Orchard\",\n",
       " 'The Beating Of A High School Spanish Teacher',\n",
       " 'Sa Ugoy Ng Duyan',\n",
       " 'Alipin',\n",
       " 'Jesus Christ',\n",
       " 'Geneva Farewell',\n",
       " 'Les Yeux Ouverts',\n",
       " 'Fiesta De La Noche',\n",
       " 'Rat Fink']"
      ]
     },
     "execution_count": 29,
     "metadata": {},
     "output_type": "execute_result"
    }
   ],
   "source": [
    "recommendation(\"Rose Garden\")"
   ]
  },
  {
   "cell_type": "code",
   "execution_count": 30,
   "id": "1b56f50b",
   "metadata": {},
   "outputs": [],
   "source": [
    "import pickle\n",
    "pickle.dump(similarity, open(\"similarity.pkl\", \"wb\"))\n",
    "pickle.dump(df, open(\"df.pkl\", \"wb\"))\n",
    "\n"
   ]
  },
  {
   "cell_type": "code",
   "execution_count": null,
   "id": "73e05886",
   "metadata": {},
   "outputs": [],
   "source": []
  },
  {
   "cell_type": "code",
   "execution_count": null,
   "id": "7db515a0",
   "metadata": {},
   "outputs": [],
   "source": []
  }
 ],
 "metadata": {
  "kernelspec": {
   "display_name": "Python 3 (ipykernel)",
   "language": "python",
   "name": "python3"
  },
  "language_info": {
   "codemirror_mode": {
    "name": "ipython",
    "version": 3
   },
   "file_extension": ".py",
   "mimetype": "text/x-python",
   "name": "python",
   "nbconvert_exporter": "python",
   "pygments_lexer": "ipython3",
   "version": "3.11.4"
  }
 },
 "nbformat": 4,
 "nbformat_minor": 5
}
