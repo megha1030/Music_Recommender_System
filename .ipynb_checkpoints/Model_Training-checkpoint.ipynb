{
 "cells": [
  {
   "cell_type": "code",
   "execution_count": 38,
   "id": "99682ef2",
   "metadata": {},
   "outputs": [],
   "source": [
    "import numpy as np\n",
    "import pandas as pd\n"
   ]
  },
  {
   "cell_type": "code",
   "execution_count": 39,
   "id": "04f3d8d5",
   "metadata": {},
   "outputs": [
    {
     "data": {
      "text/html": [
       "<div>\n",
       "<style scoped>\n",
       "    .dataframe tbody tr th:only-of-type {\n",
       "        vertical-align: middle;\n",
       "    }\n",
       "\n",
       "    .dataframe tbody tr th {\n",
       "        vertical-align: top;\n",
       "    }\n",
       "\n",
       "    .dataframe thead th {\n",
       "        text-align: right;\n",
       "    }\n",
       "</style>\n",
       "<table border=\"1\" class=\"dataframe\">\n",
       "  <thead>\n",
       "    <tr style=\"text-align: right;\">\n",
       "      <th></th>\n",
       "      <th>artist</th>\n",
       "      <th>song</th>\n",
       "      <th>link</th>\n",
       "      <th>text</th>\n",
       "    </tr>\n",
       "  </thead>\n",
       "  <tbody>\n",
       "    <tr>\n",
       "      <th>0</th>\n",
       "      <td>ABBA</td>\n",
       "      <td>Ahe's My Kind Of Girl</td>\n",
       "      <td>/a/abba/ahes+my+kind+of+girl_20598417.html</td>\n",
       "      <td>Look at her face, it's a wonderful face  \\r\\nA...</td>\n",
       "    </tr>\n",
       "    <tr>\n",
       "      <th>1</th>\n",
       "      <td>ABBA</td>\n",
       "      <td>Andante, Andante</td>\n",
       "      <td>/a/abba/andante+andante_20002708.html</td>\n",
       "      <td>Take it easy with me, please  \\r\\nTouch me gen...</td>\n",
       "    </tr>\n",
       "    <tr>\n",
       "      <th>2</th>\n",
       "      <td>ABBA</td>\n",
       "      <td>As Good As New</td>\n",
       "      <td>/a/abba/as+good+as+new_20003033.html</td>\n",
       "      <td>I'll never know why I had to go  \\r\\nWhy I had...</td>\n",
       "    </tr>\n",
       "  </tbody>\n",
       "</table>\n",
       "</div>"
      ],
      "text/plain": [
       "  artist                   song                                        link  \\\n",
       "0   ABBA  Ahe's My Kind Of Girl  /a/abba/ahes+my+kind+of+girl_20598417.html   \n",
       "1   ABBA       Andante, Andante       /a/abba/andante+andante_20002708.html   \n",
       "2   ABBA         As Good As New        /a/abba/as+good+as+new_20003033.html   \n",
       "\n",
       "                                                text  \n",
       "0  Look at her face, it's a wonderful face  \\r\\nA...  \n",
       "1  Take it easy with me, please  \\r\\nTouch me gen...  \n",
       "2  I'll never know why I had to go  \\r\\nWhy I had...  "
      ]
     },
     "execution_count": 39,
     "metadata": {},
     "output_type": "execute_result"
    }
   ],
   "source": [
    "df = pd.read_csv('spotify_millsongdata.csv')\n",
    "df.head(3)"
   ]
  },
  {
   "cell_type": "code",
   "execution_count": 40,
   "id": "54763be1",
   "metadata": {},
   "outputs": [
    {
     "data": {
      "text/plain": [
       "(57650, 4)"
      ]
     },
     "execution_count": 40,
     "metadata": {},
     "output_type": "execute_result"
    }
   ],
   "source": [
    "df.shape"
   ]
  },
  {
   "cell_type": "code",
   "execution_count": 41,
   "id": "f666318a",
   "metadata": {},
   "outputs": [],
   "source": [
    "df=df.sample(n=5000).drop('link',axis=1).reset_index(drop=True)"
   ]
  },
  {
   "cell_type": "code",
   "execution_count": 42,
   "id": "5a1d2517",
   "metadata": {},
   "outputs": [
    {
     "data": {
      "text/plain": [
       "'Angel Come Home'"
      ]
     },
     "execution_count": 42,
     "metadata": {},
     "output_type": "execute_result"
    }
   ],
   "source": [
    "df['song'][0]"
   ]
  },
  {
   "cell_type": "code",
   "execution_count": 43,
   "id": "8fb6b843",
   "metadata": {},
   "outputs": [
    {
     "data": {
      "text/plain": [
       "\"Oo ooo ooo ooo ooo  \\r\\nNow the puzzle's laid out on my table  \\r\\nThe pieces don't fit  \\r\\nI move from chair to chair  \\r\\nBut that empty one's there where she used to sit  \\r\\nI'm sitting here going out of my mind  \\r\\n'Cause she's gone away  \\r\\nShe couldn't wait, now I  \\r\\nI'm afraid it's too late  \\r\\nI'm waitin' till my angel comes home  \\r\\nIt's been hell bein' here alone  \\r\\nI'll be in heaven when my angel comes home  \\r\\nAngel, angel come home  \\r\\nIf you see her tell my angel come home  \\r\\nOo oo oo angel come home  \\r\\nIf you see her tell my angel to come home  \\r\\nDoes she remember  \\r\\nThat I can't forget  \\r\\nDoes she know I regret  \\r\\nI never told her how I  \\r\\nI wanted to hold her  \\r\\nI just let her go  \\r\\nLonely nights thinkin'  \\r\\nIt's starting to sink in  \\r\\nWe had a way to go  \\r\\nWe'll grow closer together  \\r\\nBy being apart  \\r\\nWhen my angel comes home  \\r\\nIt's been hell bein' here alone  \\r\\nGod tell me, why has she flown  \\r\\nSo far away  \\r\\nI pray she won't stay another day  \\r\\nI'll be in heaven when my angel comes home  \\r\\nPlease come home  \\r\\nAngel, come home  \\r\\nIf you see her tell my angel come home  \\r\\nHoo ooo angel, come home  \\r\\nIf you see her tell my angel to come home  \\r\\nHey hey angel, come home  \\r\\nIf you see her tell my angel to come home  \\r\\nHo oo angel come home  \\r\\nIf you see her tell my angel to come home  \\r\\nHey angel come home  \\r\\nIf you see her tell my angel to come home  \\r\\nIf you see that girl my angel come home  \\r\\nHey hey angel come home  \\r\\n\\r\\n\""
      ]
     },
     "execution_count": 43,
     "metadata": {},
     "output_type": "execute_result"
    }
   ],
   "source": [
    "df['text'][0]"
   ]
  },
  {
   "cell_type": "code",
   "execution_count": 44,
   "id": "78259f49",
   "metadata": {},
   "outputs": [],
   "source": [
    "df['text'] = df['text'] .str.lower().replace(r'[^\\w\\s]','').replace(r'\\n' ,'',regex=True)"
   ]
  },
  {
   "cell_type": "code",
   "execution_count": 45,
   "id": "bba691f9",
   "metadata": {},
   "outputs": [
    {
     "data": {
      "text/plain": [
       "\"oo ooo ooo ooo ooo  \\rnow the puzzle's laid out on my table  \\rthe pieces don't fit  \\ri move from chair to chair  \\rbut that empty one's there where she used to sit  \\ri'm sitting here going out of my mind  \\r'cause she's gone away  \\rshe couldn't wait, now i  \\ri'm afraid it's too late  \\ri'm waitin' till my angel comes home  \\rit's been hell bein' here alone  \\ri'll be in heaven when my angel comes home  \\rangel, angel come home  \\rif you see her tell my angel come home  \\roo oo oo angel come home  \\rif you see her tell my angel to come home  \\rdoes she remember  \\rthat i can't forget  \\rdoes she know i regret  \\ri never told her how i  \\ri wanted to hold her  \\ri just let her go  \\rlonely nights thinkin'  \\rit's starting to sink in  \\rwe had a way to go  \\rwe'll grow closer together  \\rby being apart  \\rwhen my angel comes home  \\rit's been hell bein' here alone  \\rgod tell me, why has she flown  \\rso far away  \\ri pray she won't stay another day  \\ri'll be in heaven when my angel comes home  \\rplease come home  \\rangel, come home  \\rif you see her tell my angel come home  \\rhoo ooo angel, come home  \\rif you see her tell my angel to come home  \\rhey hey angel, come home  \\rif you see her tell my angel to come home  \\rho oo angel come home  \\rif you see her tell my angel to come home  \\rhey angel come home  \\rif you see her tell my angel to come home  \\rif you see that girl my angel come home  \\rhey hey angel come home  \\r\\r\""
      ]
     },
     "execution_count": 45,
     "metadata": {},
     "output_type": "execute_result"
    }
   ],
   "source": [
    "df['text'][0]"
   ]
  },
  {
   "cell_type": "code",
   "execution_count": 46,
   "id": "f78ce2b6",
   "metadata": {},
   "outputs": [],
   "source": [
    "import nltk\n",
    "from nltk.stem.porter import PorterStemmer\n",
    "\n",
    "ps = PorterStemmer()\n",
    "\n",
    "\n",
    "def tokenization(txt):\n",
    "    tokens = nltk.word_tokenize(txt)\n",
    "    stemming = [ps.stem(w) for w in tokens]\n",
    "        \n",
    "    return \" \".join(stemming)"
   ]
  },
  {
   "cell_type": "code",
   "execution_count": 47,
   "id": "8735fe80",
   "metadata": {},
   "outputs": [
    {
     "data": {
      "text/plain": [
       "'thi is my word love love'"
      ]
     },
     "execution_count": 47,
     "metadata": {},
     "output_type": "execute_result"
    }
   ],
   "source": [
    "tokenization('this is my word loving loved')"
   ]
  },
  {
   "cell_type": "code",
   "execution_count": 48,
   "id": "f405d704",
   "metadata": {},
   "outputs": [],
   "source": [
    "df['text'] = df['text'].apply(lambda x: tokenization(x))"
   ]
  },
  {
   "cell_type": "code",
   "execution_count": 49,
   "id": "8432d051",
   "metadata": {},
   "outputs": [
    {
     "data": {
      "text/plain": [
       "0       oo ooo ooo ooo ooo now the puzzl 's laid out o...\n",
       "1       i 'm send you some money i wish it could be mo...\n",
       "2       i get up now do n't tri to chang me , i am wha...\n",
       "3       let me tell you about thi girl i know first gl...\n",
       "4       do n't give me no more goddamn pain babi , the...\n",
       "                              ...                        \n",
       "4995    and what will happen in the morn when the worl...\n",
       "4996    fire in her eye ? burn ? perfum of the sky ? f...\n",
       "4997    love you wa easi thought you 'd never leav me ...\n",
       "4998    ca n't you see , she do n't want you around no...\n",
       "4999    who 's gon na dri your cryin ' eye ? who 's go...\n",
       "Name: text, Length: 5000, dtype: object"
      ]
     },
     "execution_count": 49,
     "metadata": {},
     "output_type": "execute_result"
    }
   ],
   "source": [
    "df['text']"
   ]
  },
  {
   "cell_type": "code",
   "execution_count": 50,
   "id": "f04e48ce",
   "metadata": {},
   "outputs": [],
   "source": [
    "from sklearn.feature_extraction.text import TfidfVectorizer\n",
    "from sklearn.metrics.pairwise import cosine_similarity"
   ]
  },
  {
   "cell_type": "code",
   "execution_count": 51,
   "id": "743185b2",
   "metadata": {},
   "outputs": [],
   "source": [
    "tfid = TfidfVectorizer(stop_words='english') \n",
    "matrix = tfid.fit_transform(df['text'])"
   ]
  },
  {
   "cell_type": "code",
   "execution_count": 52,
   "id": "8f6af59c",
   "metadata": {},
   "outputs": [
    {
     "data": {
      "text/plain": [
       "(5000, 17286)"
      ]
     },
     "execution_count": 52,
     "metadata": {},
     "output_type": "execute_result"
    }
   ],
   "source": [
    "matrix.shape"
   ]
  },
  {
   "cell_type": "code",
   "execution_count": 53,
   "id": "12475c3a",
   "metadata": {},
   "outputs": [],
   "source": [
    "similarity = cosine_similarity(matrix)"
   ]
  },
  {
   "cell_type": "code",
   "execution_count": 54,
   "id": "9c5c0958",
   "metadata": {},
   "outputs": [
    {
     "data": {
      "text/plain": [
       "array([1.        , 0.02455225, 0.02326554, ..., 0.00582593, 0.01250799,\n",
       "       0.00540252])"
      ]
     },
     "execution_count": 54,
     "metadata": {},
     "output_type": "execute_result"
    }
   ],
   "source": [
    "similarity[0]"
   ]
  },
  {
   "cell_type": "code",
   "execution_count": 56,
   "id": "3588f037",
   "metadata": {},
   "outputs": [
    {
     "data": {
      "text/plain": [
       "'Angel Come Home'"
      ]
     },
     "execution_count": 56,
     "metadata": {},
     "output_type": "execute_result"
    }
   ],
   "source": [
    "df['song'][0]"
   ]
  },
  {
   "cell_type": "code",
   "execution_count": 57,
   "id": "6208da16",
   "metadata": {},
   "outputs": [
    {
     "data": {
      "text/html": [
       "<div>\n",
       "<style scoped>\n",
       "    .dataframe tbody tr th:only-of-type {\n",
       "        vertical-align: middle;\n",
       "    }\n",
       "\n",
       "    .dataframe tbody tr th {\n",
       "        vertical-align: top;\n",
       "    }\n",
       "\n",
       "    .dataframe thead th {\n",
       "        text-align: right;\n",
       "    }\n",
       "</style>\n",
       "<table border=\"1\" class=\"dataframe\">\n",
       "  <thead>\n",
       "    <tr style=\"text-align: right;\">\n",
       "      <th></th>\n",
       "      <th>artist</th>\n",
       "      <th>song</th>\n",
       "      <th>text</th>\n",
       "    </tr>\n",
       "  </thead>\n",
       "  <tbody>\n",
       "    <tr>\n",
       "      <th>0</th>\n",
       "      <td>Beach Boys</td>\n",
       "      <td>Angel Come Home</td>\n",
       "      <td>oo ooo ooo ooo ooo now the puzzl 's laid out o...</td>\n",
       "    </tr>\n",
       "  </tbody>\n",
       "</table>\n",
       "</div>"
      ],
      "text/plain": [
       "       artist             song  \\\n",
       "0  Beach Boys  Angel Come Home   \n",
       "\n",
       "                                                text  \n",
       "0  oo ooo ooo ooo ooo now the puzzl 's laid out o...  "
      ]
     },
     "execution_count": 57,
     "metadata": {},
     "output_type": "execute_result"
    }
   ],
   "source": [
    "df[df['song'] == \"Angel Come Home\"]"
   ]
  },
  {
   "cell_type": "code",
   "execution_count": 58,
   "id": "ede0071e",
   "metadata": {},
   "outputs": [],
   "source": [
    "def recommendation(song):\n",
    "    idx= df[df['song']== song].index[0]\n",
    "    distances= sorted(list(enumerate(similarity[idx])),reverse=False, key=lambda x:x[1])\n",
    "    \n",
    "    songs  = []\n",
    "    for i in distances[1:21]:\n",
    "        songs.append(df.iloc[i[0]].song)\n",
    "    return songs"
   ]
  },
  {
   "cell_type": "code",
   "execution_count": 59,
   "id": "8bb63ef4",
   "metadata": {},
   "outputs": [
    {
     "data": {
      "text/plain": [
       "['Keep It In Motion',\n",
       " 'All Apologies',\n",
       " 'Jet Pilot',\n",
       " 'So The Story Goes',\n",
       " 'Komm, Gib Mir Deine Hand',\n",
       " 'Ayoko Na Sana',\n",
       " 'Toy Story',\n",
       " 'Se Te Ne Vai (Si Tu Te Vas)',\n",
       " 'Bohemienne (Esmeralda)',\n",
       " 'I Love',\n",
       " 'Idiot Music',\n",
       " 'For Liquorice John',\n",
       " 'Radios In Motion',\n",
       " 'Paano',\n",
       " 'Hura-hura Huru-hara',\n",
       " \"Ode Le'eli\",\n",
       " 'Jewels',\n",
       " 'Holy Mountains',\n",
       " 'O Christmas Tree',\n",
       " 'Gin-Iro No Yume']"
      ]
     },
     "execution_count": 59,
     "metadata": {},
     "output_type": "execute_result"
    }
   ],
   "source": [
    "recommendation(\"Angel Come Home\")"
   ]
  },
  {
   "cell_type": "code",
   "execution_count": 60,
   "id": "1b56f50b",
   "metadata": {},
   "outputs": [],
   "source": [
    "import pickle\n",
    "pickle.dump(similarity, open(\"similarity.pkl\", \"wb\"))\n",
    "pickle.dump(df, open(\"df.pkl\", \"wb\"))\n",
    "\n"
   ]
  }
 ],
 "metadata": {
  "kernelspec": {
   "display_name": "Python 3 (ipykernel)",
   "language": "python",
   "name": "python3"
  },
  "language_info": {
   "codemirror_mode": {
    "name": "ipython",
    "version": 3
   },
   "file_extension": ".py",
   "mimetype": "text/x-python",
   "name": "python",
   "nbconvert_exporter": "python",
   "pygments_lexer": "ipython3",
   "version": "3.11.4"
  }
 },
 "nbformat": 4,
 "nbformat_minor": 5
}
